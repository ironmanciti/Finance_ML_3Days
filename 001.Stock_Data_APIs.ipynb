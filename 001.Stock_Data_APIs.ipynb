{
 "cells": [
  {
   "cell_type": "markdown",
   "id": "human-franklin",
   "metadata": {},
   "source": [
    "# Free stock market APIs\n",
    "\n",
    "주식 시장 데이터 API는 현재 시장에서 거래되는 금융 자산에 대한 실시간 또는 과거 데이터를 제공합니다. 이러한 API는 일반적으로 공개 주식, ETF, ETN의 가격을 제공합니다.  \n",
    "이러한 데이터는 거래 전략을 수립하고 시장을 모니터링하는 기반이 되는 기술 지표를 생성하는 데 사용할 수 있습니다. "
   ]
  },
  {
   "cell_type": "markdown",
   "id": "afraid-surrey",
   "metadata": {},
   "source": [
    "# 1. 야후 파이낸스\n",
    "문서: [yfinance](https://github.com/ranaroussi/yfinance)  \n",
    "tutorial: https://aroussi.com/post/python-yahoo-finance"
   ]
  },
  {
   "cell_type": "code",
   "execution_count": null,
   "id": "289f5c4e-6ef4-4a07-b9d2-932cdd7a157f",
   "metadata": {},
   "outputs": [],
   "source": [
    "# pip install -U yfinance"
   ]
  },
  {
   "cell_type": "code",
   "execution_count": 1,
   "id": "convinced-elimination",
   "metadata": {},
   "outputs": [],
   "source": [
    "import matplotlib.pyplot as plt\n",
    "import yfinance as yf"
   ]
  },
  {
   "cell_type": "markdown",
   "id": "46fd7a64",
   "metadata": {},
   "source": [
    "- 미국 주식"
   ]
  },
  {
   "cell_type": "code",
   "execution_count": 2,
   "id": "appreciated-yellow",
   "metadata": {},
   "outputs": [
    {
     "name": "stdout",
     "output_type": "stream",
     "text": [
      "YF.download() has changed argument auto_adjust default to True\n"
     ]
    },
    {
     "data": {
      "text/html": [
       "<div>\n",
       "<style scoped>\n",
       "    .dataframe tbody tr th:only-of-type {\n",
       "        vertical-align: middle;\n",
       "    }\n",
       "\n",
       "    .dataframe tbody tr th {\n",
       "        vertical-align: top;\n",
       "    }\n",
       "\n",
       "    .dataframe thead th {\n",
       "        text-align: right;\n",
       "    }\n",
       "</style>\n",
       "<table border=\"1\" class=\"dataframe\">\n",
       "  <thead>\n",
       "    <tr style=\"text-align: right;\">\n",
       "      <th></th>\n",
       "      <th>Close</th>\n",
       "      <th>High</th>\n",
       "      <th>Low</th>\n",
       "      <th>Open</th>\n",
       "      <th>Volume</th>\n",
       "    </tr>\n",
       "    <tr>\n",
       "      <th>Date</th>\n",
       "      <th></th>\n",
       "      <th></th>\n",
       "      <th></th>\n",
       "      <th></th>\n",
       "      <th></th>\n",
       "    </tr>\n",
       "  </thead>\n",
       "  <tbody>\n",
       "    <tr>\n",
       "      <th>2025-03-17</th>\n",
       "      <td>214.000000</td>\n",
       "      <td>215.220001</td>\n",
       "      <td>209.970001</td>\n",
       "      <td>213.309998</td>\n",
       "      <td>48073400</td>\n",
       "    </tr>\n",
       "    <tr>\n",
       "      <th>2025-03-18</th>\n",
       "      <td>212.690002</td>\n",
       "      <td>215.149994</td>\n",
       "      <td>211.490005</td>\n",
       "      <td>214.160004</td>\n",
       "      <td>42432400</td>\n",
       "    </tr>\n",
       "    <tr>\n",
       "      <th>2025-03-19</th>\n",
       "      <td>215.240005</td>\n",
       "      <td>218.759995</td>\n",
       "      <td>213.750000</td>\n",
       "      <td>214.220001</td>\n",
       "      <td>54385400</td>\n",
       "    </tr>\n",
       "    <tr>\n",
       "      <th>2025-03-20</th>\n",
       "      <td>214.100006</td>\n",
       "      <td>217.490005</td>\n",
       "      <td>212.220001</td>\n",
       "      <td>213.990005</td>\n",
       "      <td>48862900</td>\n",
       "    </tr>\n",
       "    <tr>\n",
       "      <th>2025-03-21</th>\n",
       "      <td>218.270004</td>\n",
       "      <td>218.839996</td>\n",
       "      <td>211.279999</td>\n",
       "      <td>211.559998</td>\n",
       "      <td>93954500</td>\n",
       "    </tr>\n",
       "  </tbody>\n",
       "</table>\n",
       "</div>"
      ],
      "text/plain": [
       "                 Close        High         Low        Open    Volume\n",
       "Date                                                                \n",
       "2025-03-17  214.000000  215.220001  209.970001  213.309998  48073400\n",
       "2025-03-18  212.690002  215.149994  211.490005  214.160004  42432400\n",
       "2025-03-19  215.240005  218.759995  213.750000  214.220001  54385400\n",
       "2025-03-20  214.100006  217.490005  212.220001  213.990005  48862900\n",
       "2025-03-21  218.270004  218.839996  211.279999  211.559998  93954500"
      ]
     },
     "execution_count": 2,
     "metadata": {},
     "output_type": "execute_result"
    }
   ],
   "source": [
    "df = yf.download('AAPL', start='2022-01-01', progress=False, multi_level_index=False)\n",
    "df.tail()"
   ]
  },
  {
   "cell_type": "markdown",
   "id": "def04c04",
   "metadata": {},
   "source": [
    "- 한국 주식"
   ]
  },
  {
   "cell_type": "code",
   "execution_count": 5,
   "id": "e0f7f215",
   "metadata": {},
   "outputs": [
    {
     "data": {
      "text/html": [
       "<div>\n",
       "<style scoped>\n",
       "    .dataframe tbody tr th:only-of-type {\n",
       "        vertical-align: middle;\n",
       "    }\n",
       "\n",
       "    .dataframe tbody tr th {\n",
       "        vertical-align: top;\n",
       "    }\n",
       "\n",
       "    .dataframe thead th {\n",
       "        text-align: right;\n",
       "    }\n",
       "</style>\n",
       "<table border=\"1\" class=\"dataframe\">\n",
       "  <thead>\n",
       "    <tr style=\"text-align: right;\">\n",
       "      <th></th>\n",
       "      <th>Close</th>\n",
       "      <th>High</th>\n",
       "      <th>Low</th>\n",
       "      <th>Open</th>\n",
       "      <th>Volume</th>\n",
       "    </tr>\n",
       "    <tr>\n",
       "      <th>Date</th>\n",
       "      <th></th>\n",
       "      <th></th>\n",
       "      <th></th>\n",
       "      <th></th>\n",
       "      <th></th>\n",
       "    </tr>\n",
       "  </thead>\n",
       "  <tbody>\n",
       "    <tr>\n",
       "      <th>2025-03-17</th>\n",
       "      <td>57600.0</td>\n",
       "      <td>57800.0</td>\n",
       "      <td>55400.0</td>\n",
       "      <td>55500.0</td>\n",
       "      <td>35559021</td>\n",
       "    </tr>\n",
       "    <tr>\n",
       "      <th>2025-03-18</th>\n",
       "      <td>57600.0</td>\n",
       "      <td>59000.0</td>\n",
       "      <td>57300.0</td>\n",
       "      <td>58800.0</td>\n",
       "      <td>28138594</td>\n",
       "    </tr>\n",
       "    <tr>\n",
       "      <th>2025-03-19</th>\n",
       "      <td>58500.0</td>\n",
       "      <td>59200.0</td>\n",
       "      <td>57400.0</td>\n",
       "      <td>57400.0</td>\n",
       "      <td>29421759</td>\n",
       "    </tr>\n",
       "    <tr>\n",
       "      <th>2025-03-20</th>\n",
       "      <td>60200.0</td>\n",
       "      <td>60300.0</td>\n",
       "      <td>58500.0</td>\n",
       "      <td>59200.0</td>\n",
       "      <td>34989004</td>\n",
       "    </tr>\n",
       "    <tr>\n",
       "      <th>2025-03-21</th>\n",
       "      <td>61700.0</td>\n",
       "      <td>61700.0</td>\n",
       "      <td>60400.0</td>\n",
       "      <td>60900.0</td>\n",
       "      <td>40155612</td>\n",
       "    </tr>\n",
       "  </tbody>\n",
       "</table>\n",
       "</div>"
      ],
      "text/plain": [
       "              Close     High      Low     Open    Volume\n",
       "Date                                                    \n",
       "2025-03-17  57600.0  57800.0  55400.0  55500.0  35559021\n",
       "2025-03-18  57600.0  59000.0  57300.0  58800.0  28138594\n",
       "2025-03-19  58500.0  59200.0  57400.0  57400.0  29421759\n",
       "2025-03-20  60200.0  60300.0  58500.0  59200.0  34989004\n",
       "2025-03-21  61700.0  61700.0  60400.0  60900.0  40155612"
      ]
     },
     "execution_count": 5,
     "metadata": {},
     "output_type": "execute_result"
    }
   ],
   "source": [
    "df = yf.download('005930.KS', start='2022-01-01', progress=False, multi_level_index=False) #삼성전자\n",
    "df.tail()"
   ]
  },
  {
   "cell_type": "markdown",
   "id": "functioning-garlic",
   "metadata": {},
   "source": [
    "# 2. Pandas data_reader & FinanceDataReader\n",
    "\n",
    "[pandas-datareader](https://github.com/pydata/pandas-datareader)는 잘 구성된 시계열 데이터 수집 라이브러리로 사용이 간편하고 다양한 시계열 데이터를 수집할 수 있다는 장점이 있다. 하지만, 거래소별(KRX, NASDAQ, NYSE 등) 전체 종목 코드(ticker symbol)를 가져오는 기능이 없으며, 야후 파이낸스가 더 이상지원되지 않고(deprecated), 구글 파이낸스는 UNSTABLE_WARNING + RemoteDataError 를 낸다.\n",
    "\n",
    "[FinanceDataReader](https://github.com/FinanceData/FinanceDataReader)는 pandas-datareader 를 대체하기 보다 보완하기 위한 목적으로 만들어졌다. 주요한 기능은 다음과 같다.\n",
    "\n",
    "- 종목 코드  \n",
    "거래소별 전체 종목코드: KRX (KOSPI, KODAQ, KONEX), NASDAQ, NYSE, AMEX, S&P 500  \n",
    "\n",
    "\n",
    "- 가격 데이터  \n",
    "해외주식 가격 데이터: AAPL(애플), AMZN(아마존), GOOG(구글) 등  \n",
    "국내주식 가격 데이터: 005930(삼성전자), 091990(셀트리온헬스케어) 등  \n",
    "각종 지수: KS11(코스피지수), KQ11(코스닥지수), DJI(다우지수), IXIC(나스닥 지수), US500(S&P 5000)  \n",
    "환율 데이터: USD/KRX (원달러 환율), USD/EUR(달러당 유로화 환율), CNY/KRW: 위엔화 원화 환율  \n",
    "암호화폐 가격: BTC/USD (비트코인 달러 가격, Bitfinex), BTC/KRW (비트코인 원화 가격, 빗썸)  "
   ]
  },
  {
   "cell_type": "code",
   "execution_count": 6,
   "id": "71ff132d",
   "metadata": {},
   "outputs": [],
   "source": [
    "# !pip install --upgrade pandas-datareader\n",
    "# !pip install --upgrade finance-datareader"
   ]
  },
  {
   "cell_type": "code",
   "execution_count": 7,
   "id": "arranged-convertible",
   "metadata": {},
   "outputs": [],
   "source": [
    "import pandas_datareader as data_reader\n",
    "import FinanceDataReader as fdr\n",
    "import datetime\n",
    "\n",
    "start = datetime.datetime(2020, 2, 19)\n",
    "end = datetime.datetime(2022, 3, 4)"
   ]
  },
  {
   "cell_type": "markdown",
   "id": "81bcba20",
   "metadata": {},
   "source": [
    "- 미국 주식"
   ]
  },
  {
   "cell_type": "code",
   "execution_count": 8,
   "id": "c394ff8f",
   "metadata": {},
   "outputs": [
    {
     "data": {
      "text/html": [
       "<div>\n",
       "<style scoped>\n",
       "    .dataframe tbody tr th:only-of-type {\n",
       "        vertical-align: middle;\n",
       "    }\n",
       "\n",
       "    .dataframe tbody tr th {\n",
       "        vertical-align: top;\n",
       "    }\n",
       "\n",
       "    .dataframe thead th {\n",
       "        text-align: right;\n",
       "    }\n",
       "</style>\n",
       "<table border=\"1\" class=\"dataframe\">\n",
       "  <thead>\n",
       "    <tr style=\"text-align: right;\">\n",
       "      <th></th>\n",
       "      <th>Open</th>\n",
       "      <th>High</th>\n",
       "      <th>Low</th>\n",
       "      <th>Close</th>\n",
       "      <th>Volume</th>\n",
       "      <th>Adj Close</th>\n",
       "    </tr>\n",
       "  </thead>\n",
       "  <tbody>\n",
       "    <tr>\n",
       "      <th>2020-02-18</th>\n",
       "      <td>78.839996</td>\n",
       "      <td>79.937500</td>\n",
       "      <td>78.652496</td>\n",
       "      <td>79.750000</td>\n",
       "      <td>152531200</td>\n",
       "      <td>77.414619</td>\n",
       "    </tr>\n",
       "    <tr>\n",
       "      <th>2020-02-19</th>\n",
       "      <td>80.000000</td>\n",
       "      <td>81.142502</td>\n",
       "      <td>80.000000</td>\n",
       "      <td>80.904999</td>\n",
       "      <td>93984000</td>\n",
       "      <td>78.535789</td>\n",
       "    </tr>\n",
       "    <tr>\n",
       "      <th>2020-02-20</th>\n",
       "      <td>80.657501</td>\n",
       "      <td>81.162498</td>\n",
       "      <td>79.552498</td>\n",
       "      <td>80.074997</td>\n",
       "      <td>100566000</td>\n",
       "      <td>77.730080</td>\n",
       "    </tr>\n",
       "    <tr>\n",
       "      <th>2020-02-21</th>\n",
       "      <td>79.654999</td>\n",
       "      <td>80.112503</td>\n",
       "      <td>77.625000</td>\n",
       "      <td>78.262497</td>\n",
       "      <td>129554000</td>\n",
       "      <td>75.970665</td>\n",
       "    </tr>\n",
       "    <tr>\n",
       "      <th>2020-02-24</th>\n",
       "      <td>74.315002</td>\n",
       "      <td>76.044998</td>\n",
       "      <td>72.307503</td>\n",
       "      <td>74.544998</td>\n",
       "      <td>222195200</td>\n",
       "      <td>72.362015</td>\n",
       "    </tr>\n",
       "  </tbody>\n",
       "</table>\n",
       "</div>"
      ],
      "text/plain": [
       "                 Open       High        Low      Close     Volume  Adj Close\n",
       "2020-02-18  78.839996  79.937500  78.652496  79.750000  152531200  77.414619\n",
       "2020-02-19  80.000000  81.142502  80.000000  80.904999   93984000  78.535789\n",
       "2020-02-20  80.657501  81.162498  79.552498  80.074997  100566000  77.730080\n",
       "2020-02-21  79.654999  80.112503  77.625000  78.262497  129554000  75.970665\n",
       "2020-02-24  74.315002  76.044998  72.307503  74.544998  222195200  72.362015"
      ]
     },
     "execution_count": 8,
     "metadata": {},
     "output_type": "execute_result"
    }
   ],
   "source": [
    "stock = fdr.DataReader('AAPL' , start=start, end=end)  #APPLE 주식\n",
    "stock.head()"
   ]
  },
  {
   "cell_type": "markdown",
   "id": "4c68c086",
   "metadata": {},
   "source": [
    "- 한국 주식"
   ]
  },
  {
   "cell_type": "code",
   "execution_count": 9,
   "id": "af1fd403",
   "metadata": {},
   "outputs": [
    {
     "data": {
      "text/html": [
       "<div>\n",
       "<style scoped>\n",
       "    .dataframe tbody tr th:only-of-type {\n",
       "        vertical-align: middle;\n",
       "    }\n",
       "\n",
       "    .dataframe tbody tr th {\n",
       "        vertical-align: top;\n",
       "    }\n",
       "\n",
       "    .dataframe thead th {\n",
       "        text-align: right;\n",
       "    }\n",
       "</style>\n",
       "<table border=\"1\" class=\"dataframe\">\n",
       "  <thead>\n",
       "    <tr style=\"text-align: right;\">\n",
       "      <th></th>\n",
       "      <th>Open</th>\n",
       "      <th>High</th>\n",
       "      <th>Low</th>\n",
       "      <th>Close</th>\n",
       "      <th>Volume</th>\n",
       "      <th>Change</th>\n",
       "    </tr>\n",
       "    <tr>\n",
       "      <th>Date</th>\n",
       "      <th></th>\n",
       "      <th></th>\n",
       "      <th></th>\n",
       "      <th></th>\n",
       "      <th></th>\n",
       "      <th></th>\n",
       "    </tr>\n",
       "  </thead>\n",
       "  <tbody>\n",
       "    <tr>\n",
       "      <th>2020-02-19</th>\n",
       "      <td>59800</td>\n",
       "      <td>60400</td>\n",
       "      <td>59400</td>\n",
       "      <td>60200</td>\n",
       "      <td>12951496</td>\n",
       "      <td>0.006689</td>\n",
       "    </tr>\n",
       "    <tr>\n",
       "      <th>2020-02-20</th>\n",
       "      <td>60700</td>\n",
       "      <td>61300</td>\n",
       "      <td>59600</td>\n",
       "      <td>60000</td>\n",
       "      <td>14591924</td>\n",
       "      <td>-0.003322</td>\n",
       "    </tr>\n",
       "    <tr>\n",
       "      <th>2020-02-21</th>\n",
       "      <td>58800</td>\n",
       "      <td>59800</td>\n",
       "      <td>58500</td>\n",
       "      <td>59200</td>\n",
       "      <td>13777393</td>\n",
       "      <td>-0.013333</td>\n",
       "    </tr>\n",
       "    <tr>\n",
       "      <th>2020-02-24</th>\n",
       "      <td>57400</td>\n",
       "      <td>58100</td>\n",
       "      <td>56800</td>\n",
       "      <td>56800</td>\n",
       "      <td>25627537</td>\n",
       "      <td>-0.040541</td>\n",
       "    </tr>\n",
       "    <tr>\n",
       "      <th>2020-02-25</th>\n",
       "      <td>56200</td>\n",
       "      <td>58000</td>\n",
       "      <td>56200</td>\n",
       "      <td>57900</td>\n",
       "      <td>23885408</td>\n",
       "      <td>0.019366</td>\n",
       "    </tr>\n",
       "  </tbody>\n",
       "</table>\n",
       "</div>"
      ],
      "text/plain": [
       "             Open   High    Low  Close    Volume    Change\n",
       "Date                                                      \n",
       "2020-02-19  59800  60400  59400  60200  12951496  0.006689\n",
       "2020-02-20  60700  61300  59600  60000  14591924 -0.003322\n",
       "2020-02-21  58800  59800  58500  59200  13777393 -0.013333\n",
       "2020-02-24  57400  58100  56800  56800  25627537 -0.040541\n",
       "2020-02-25  56200  58000  56200  57900  23885408  0.019366"
      ]
     },
     "execution_count": 9,
     "metadata": {},
     "output_type": "execute_result"
    }
   ],
   "source": [
    "stock = fdr.DataReader('005930', start=start, end=end)  # 삼성전자\n",
    "stock.head()"
   ]
  },
  {
   "cell_type": "markdown",
   "id": "848255de",
   "metadata": {},
   "source": [
    "- 원-달러 환율"
   ]
  },
  {
   "cell_type": "code",
   "execution_count": 10,
   "id": "conditional-surgery",
   "metadata": {},
   "outputs": [
    {
     "data": {
      "text/html": [
       "<div>\n",
       "<style scoped>\n",
       "    .dataframe tbody tr th:only-of-type {\n",
       "        vertical-align: middle;\n",
       "    }\n",
       "\n",
       "    .dataframe tbody tr th {\n",
       "        vertical-align: top;\n",
       "    }\n",
       "\n",
       "    .dataframe thead th {\n",
       "        text-align: right;\n",
       "    }\n",
       "</style>\n",
       "<table border=\"1\" class=\"dataframe\">\n",
       "  <thead>\n",
       "    <tr style=\"text-align: right;\">\n",
       "      <th></th>\n",
       "      <th>DEXKOUS</th>\n",
       "    </tr>\n",
       "    <tr>\n",
       "      <th>DATE</th>\n",
       "      <th></th>\n",
       "    </tr>\n",
       "  </thead>\n",
       "  <tbody>\n",
       "    <tr>\n",
       "      <th>2022-01-03</th>\n",
       "      <td>1191.39</td>\n",
       "    </tr>\n",
       "    <tr>\n",
       "      <th>2022-01-04</th>\n",
       "      <td>1193.77</td>\n",
       "    </tr>\n",
       "    <tr>\n",
       "      <th>2022-01-05</th>\n",
       "      <td>1196.38</td>\n",
       "    </tr>\n",
       "    <tr>\n",
       "      <th>2022-01-06</th>\n",
       "      <td>1205.02</td>\n",
       "    </tr>\n",
       "    <tr>\n",
       "      <th>2022-01-07</th>\n",
       "      <td>1200.78</td>\n",
       "    </tr>\n",
       "  </tbody>\n",
       "</table>\n",
       "</div>"
      ],
      "text/plain": [
       "            DEXKOUS\n",
       "DATE               \n",
       "2022-01-03  1191.39\n",
       "2022-01-04  1193.77\n",
       "2022-01-05  1196.38\n",
       "2022-01-06  1205.02\n",
       "2022-01-07  1200.78"
      ]
     },
     "execution_count": 10,
     "metadata": {},
     "output_type": "execute_result"
    }
   ],
   "source": [
    "df = data_reader.DataReader('DEXKOUS', 'fred', '2022-01-01')\n",
    "df.head()"
   ]
  },
  {
   "cell_type": "code",
   "execution_count": 11,
   "id": "4a6d97ed",
   "metadata": {},
   "outputs": [
    {
     "data": {
      "text/html": [
       "<div>\n",
       "<style scoped>\n",
       "    .dataframe tbody tr th:only-of-type {\n",
       "        vertical-align: middle;\n",
       "    }\n",
       "\n",
       "    .dataframe tbody tr th {\n",
       "        vertical-align: top;\n",
       "    }\n",
       "\n",
       "    .dataframe thead th {\n",
       "        text-align: right;\n",
       "    }\n",
       "</style>\n",
       "<table border=\"1\" class=\"dataframe\">\n",
       "  <thead>\n",
       "    <tr style=\"text-align: right;\">\n",
       "      <th></th>\n",
       "      <th>DEXKOUS</th>\n",
       "    </tr>\n",
       "    <tr>\n",
       "      <th>DATE</th>\n",
       "      <th></th>\n",
       "    </tr>\n",
       "  </thead>\n",
       "  <tbody>\n",
       "    <tr>\n",
       "      <th>2025-03-10</th>\n",
       "      <td>1456.74</td>\n",
       "    </tr>\n",
       "    <tr>\n",
       "      <th>2025-03-11</th>\n",
       "      <td>1453.07</td>\n",
       "    </tr>\n",
       "    <tr>\n",
       "      <th>2025-03-12</th>\n",
       "      <td>1451.70</td>\n",
       "    </tr>\n",
       "    <tr>\n",
       "      <th>2025-03-13</th>\n",
       "      <td>1455.76</td>\n",
       "    </tr>\n",
       "    <tr>\n",
       "      <th>2025-03-14</th>\n",
       "      <td>1451.76</td>\n",
       "    </tr>\n",
       "  </tbody>\n",
       "</table>\n",
       "</div>"
      ],
      "text/plain": [
       "            DEXKOUS\n",
       "DATE               \n",
       "2025-03-10  1456.74\n",
       "2025-03-11  1453.07\n",
       "2025-03-12  1451.70\n",
       "2025-03-13  1455.76\n",
       "2025-03-14  1451.76"
      ]
     },
     "execution_count": 11,
     "metadata": {},
     "output_type": "execute_result"
    }
   ],
   "source": [
    "df.tail()"
   ]
  },
  {
   "cell_type": "code",
   "execution_count": 12,
   "id": "56a62fce",
   "metadata": {},
   "outputs": [
    {
     "data": {
      "text/plain": [
       "<Axes: xlabel='DATE'>"
      ]
     },
     "execution_count": 12,
     "metadata": {},
     "output_type": "execute_result"
    },
    {
     "data": {
      "image/png": "[encoded data removed]",
      "text/plain": [
       "<Figure size 640x480 with 1 Axes>"
      ]
     },
     "metadata": {},
     "output_type": "display_data"
    }
   ],
   "source": [
    "df.plot()"
   ]
  },
  {
   "cell_type": "markdown",
   "id": "60e4ed38",
   "metadata": {},
   "source": [
    "- DataReader"
   ]
  },
  {
   "cell_type": "code",
   "execution_count": 13,
   "id": "13ad713a",
   "metadata": {},
   "outputs": [
    {
     "data": {
      "text/html": [
       "<div>\n",
       "<style scoped>\n",
       "    .dataframe tbody tr th:only-of-type {\n",
       "        vertical-align: middle;\n",
       "    }\n",
       "\n",
       "    .dataframe tbody tr th {\n",
       "        vertical-align: top;\n",
       "    }\n",
       "\n",
       "    .dataframe thead th {\n",
       "        text-align: right;\n",
       "    }\n",
       "</style>\n",
       "<table border=\"1\" class=\"dataframe\">\n",
       "  <thead>\n",
       "    <tr style=\"text-align: right;\">\n",
       "      <th></th>\n",
       "      <th>Open</th>\n",
       "      <th>High</th>\n",
       "      <th>Low</th>\n",
       "      <th>Close</th>\n",
       "      <th>Volume</th>\n",
       "      <th>Change</th>\n",
       "    </tr>\n",
       "    <tr>\n",
       "      <th>Date</th>\n",
       "      <th></th>\n",
       "      <th></th>\n",
       "      <th></th>\n",
       "      <th></th>\n",
       "      <th></th>\n",
       "      <th></th>\n",
       "    </tr>\n",
       "  </thead>\n",
       "  <tbody>\n",
       "    <tr>\n",
       "      <th>2020-02-19</th>\n",
       "      <td>164928</td>\n",
       "      <td>165815</td>\n",
       "      <td>159609</td>\n",
       "      <td>160941</td>\n",
       "      <td>833238</td>\n",
       "      <td>-0.016265</td>\n",
       "    </tr>\n",
       "    <tr>\n",
       "      <th>2020-02-20</th>\n",
       "      <td>161381</td>\n",
       "      <td>161825</td>\n",
       "      <td>156505</td>\n",
       "      <td>158724</td>\n",
       "      <td>849423</td>\n",
       "      <td>-0.013775</td>\n",
       "    </tr>\n",
       "    <tr>\n",
       "      <th>2020-02-21</th>\n",
       "      <td>156505</td>\n",
       "      <td>160495</td>\n",
       "      <td>156062</td>\n",
       "      <td>156951</td>\n",
       "      <td>506103</td>\n",
       "      <td>-0.011170</td>\n",
       "    </tr>\n",
       "    <tr>\n",
       "      <th>2020-02-24</th>\n",
       "      <td>152958</td>\n",
       "      <td>154730</td>\n",
       "      <td>149855</td>\n",
       "      <td>149857</td>\n",
       "      <td>866854</td>\n",
       "      <td>-0.045199</td>\n",
       "    </tr>\n",
       "    <tr>\n",
       "      <th>2020-02-25</th>\n",
       "      <td>149856</td>\n",
       "      <td>153402</td>\n",
       "      <td>149412</td>\n",
       "      <td>152961</td>\n",
       "      <td>641598</td>\n",
       "      <td>0.020713</td>\n",
       "    </tr>\n",
       "    <tr>\n",
       "      <th>...</th>\n",
       "      <td>...</td>\n",
       "      <td>...</td>\n",
       "      <td>...</td>\n",
       "      <td>...</td>\n",
       "      <td>...</td>\n",
       "      <td>...</td>\n",
       "    </tr>\n",
       "    <tr>\n",
       "      <th>2025-03-17</th>\n",
       "      <td>187900</td>\n",
       "      <td>188200</td>\n",
       "      <td>184200</td>\n",
       "      <td>187800</td>\n",
       "      <td>414566</td>\n",
       "      <td>0.009135</td>\n",
       "    </tr>\n",
       "    <tr>\n",
       "      <th>2025-03-18</th>\n",
       "      <td>188500</td>\n",
       "      <td>190700</td>\n",
       "      <td>187200</td>\n",
       "      <td>187400</td>\n",
       "      <td>448355</td>\n",
       "      <td>-0.002130</td>\n",
       "    </tr>\n",
       "    <tr>\n",
       "      <th>2025-03-19</th>\n",
       "      <td>187300</td>\n",
       "      <td>189000</td>\n",
       "      <td>186900</td>\n",
       "      <td>187200</td>\n",
       "      <td>317459</td>\n",
       "      <td>-0.001067</td>\n",
       "    </tr>\n",
       "    <tr>\n",
       "      <th>2025-03-20</th>\n",
       "      <td>187300</td>\n",
       "      <td>188100</td>\n",
       "      <td>185200</td>\n",
       "      <td>186300</td>\n",
       "      <td>363506</td>\n",
       "      <td>-0.004808</td>\n",
       "    </tr>\n",
       "    <tr>\n",
       "      <th>2025-03-21</th>\n",
       "      <td>185200</td>\n",
       "      <td>189100</td>\n",
       "      <td>184700</td>\n",
       "      <td>186700</td>\n",
       "      <td>565000</td>\n",
       "      <td>0.002147</td>\n",
       "    </tr>\n",
       "  </tbody>\n",
       "</table>\n",
       "<p>1251 rows × 6 columns</p>\n",
       "</div>"
      ],
      "text/plain": [
       "              Open    High     Low   Close  Volume    Change\n",
       "Date                                                        \n",
       "2020-02-19  164928  165815  159609  160941  833238 -0.016265\n",
       "2020-02-20  161381  161825  156505  158724  849423 -0.013775\n",
       "2020-02-21  156505  160495  156062  156951  506103 -0.011170\n",
       "2020-02-24  152958  154730  149855  149857  866854 -0.045199\n",
       "2020-02-25  149856  153402  149412  152961  641598  0.020713\n",
       "...            ...     ...     ...     ...     ...       ...\n",
       "2025-03-17  187900  188200  184200  187800  414566  0.009135\n",
       "2025-03-18  188500  190700  187200  187400  448355 -0.002130\n",
       "2025-03-19  187300  189000  186900  187200  317459 -0.001067\n",
       "2025-03-20  187300  188100  185200  186300  363506 -0.004808\n",
       "2025-03-21  185200  189100  184700  186700  565000  0.002147\n",
       "\n",
       "[1251 rows x 6 columns]"
      ]
     },
     "execution_count": 13,
     "metadata": {},
     "output_type": "execute_result"
    }
   ],
   "source": [
    "stock = fdr.DataReader(\"068270\", start)  #셀트리온\n",
    "stock"
   ]
  },
  {
   "cell_type": "code",
   "execution_count": 14,
   "id": "99cd1865",
   "metadata": {},
   "outputs": [
    {
     "data": {
      "text/plain": [
       "<Axes: xlabel='Date'>"
      ]
     },
     "execution_count": 14,
     "metadata": {},
     "output_type": "execute_result"
    },
    {
     "data": {
      "image/png": "[encoded data removed]",
      "text/plain": [
       "<Figure size 640x480 with 1 Axes>"
      ]
     },
     "metadata": {},
     "output_type": "display_data"
    }
   ],
   "source": [
    "stock[\"Close\"].plot()"
   ]
  },
  {
   "cell_type": "code",
   "execution_count": null,
   "id": "e7db8e3f",
   "metadata": {},
   "outputs": [],
   "source": []
  }
 ],
 "metadata": {
  "kernelspec": {
   "display_name": "Python 3 (ipykernel)",
   "language": "python",
   "name": "python3"
  },
  "language_info": {
   "codemirror_mode": {
    "name": "ipython",
    "version": 3
   },
   "file_extension": ".py",
   "mimetype": "text/x-python",
   "name": "python",
   "nbconvert_exporter": "python",
   "pygments_lexer": "ipython3",
   "version": "3.9.16"
  }
 },
 "nbformat": 4,
 "nbformat_minor": 5
}
