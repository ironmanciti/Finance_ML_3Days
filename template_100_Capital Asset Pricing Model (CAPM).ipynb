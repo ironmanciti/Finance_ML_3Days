{
 "cells": [
  {
   "cell_type": "markdown",
   "id": "8bdd1322",
   "metadata": {
    "colab_type": "text",
    "id": "_OtNKjlXS5YR"
   },
   "source": [
    "# CAPM - Capital Asset Pricing Model \n",
    "\n",
    "## simple linear regression으로 CAPM을 Modeling\n",
    "- market portfolio 는 S&P500 사용\n",
    "- Apple 단일 주식 portfolio 사용\n",
    "\n",
    "### CAPM 공식 이용\n",
    "### $$ r_i = r_f + \\beta * (r_m - r_f )$$\n",
    "$r_i$ : 자산 𝑖 의 기대 수익률입니다. 자산 투자 시 예상되는 수익률입니다.  \n",
    "$r_f$ : 무위험 수익률 (Risk-free rate)입니다.  \n",
    "𝛽: 자산의 베타 계수입니다. 이 값은 자산이 시장 전체의 변동에 대해 얼마나 민감하게 반응하는지를 나타냅니다.  \n",
    "$r_m$ : 시장 수익률 (Market return). 시장 전체(예: 주식 시장)의 평균적인 수익률을 나타냅니다.  \n",
    "$(r_m - r_f )$ : **시장 위험 프리미엄 (Market risk premium)**입니다. 이는 시장 전체의 기대 수익률에서 무위험 수익률을 뺀 값으로, 시장에 투자할 때 추가적으로 기대되는 수익률을 의미합니다.  \n",
    "\n",
    "- CAPM 공식은 베타 계수가 클수록 자산의 변동성(시장에 대한 민감도)이 크기 때문에, 추가적인 위험을 감수함으로써 더 높은 기대 수익률을 가질 수 있다는 의미입니다."
   ]
  },
  {
   "cell_type": "code",
   "execution_count": null,
   "id": "3f8a756e",
   "metadata": {},
   "outputs": [],
   "source": []
  },
  {
   "cell_type": "code",
   "execution_count": null,
   "id": "ff87c3c0",
   "metadata": {},
   "outputs": [],
   "source": []
  },
  {
   "cell_type": "markdown",
   "id": "4c46fa9b",
   "metadata": {},
   "source": [
    "날짜를 기준으로 데이터를 정렬하고 날짜를 인덱스로 설정"
   ]
  },
  {
   "cell_type": "code",
   "execution_count": null,
   "id": "fee50b6d",
   "metadata": {},
   "outputs": [],
   "source": [
    "# stocks_df 데이터프레임을 'Date' 열을 기준으로 정렬합니다.\n",
    "# set_index('Date')는 'Date' 열을 인덱스로 설정합니다."
   ]
  },
  {
   "cell_type": "markdown",
   "id": "d1898c94",
   "metadata": {},
   "source": [
    "price를 시작일 price로 normalize하는 함수"
   ]
  },
  {
   "cell_type": "code",
   "execution_count": null,
   "id": "40987d60",
   "metadata": {},
   "outputs": [],
   "source": [
    "# 각 열의 첫 번째 값에 대한 비율로 나누어 각 값을 스케일링\n",
    "def normalize(df):\n",
    "    # 데이터프레임을 복사하여 원본 데이터가 변경되지 않도록 합니다.\n",
    "    # 데이터프레임의 각 열에 대해 반복 작업을 수행합니다.\n",
    "        # 각 열의 첫 번째 값으로 모든 값을 나누어 정규화합니다.\n",
    "        # x[col][0]은 해당 열의 첫 번째 값을 의미하며, 각 값은 그 값에 대한 비율로 변경됩니다.\n",
    "    # 정규화된 데이터프레임을 반환"
   ]
  },
  {
   "cell_type": "markdown",
   "id": "9661e7ce",
   "metadata": {
    "colab_type": "text",
    "id": "xFn-qwFhUIZk"
   },
   "source": [
    "- 일일 수익률 계산"
   ]
  },
  {
   "cell_type": "code",
   "execution_count": null,
   "id": "c355f3ef",
   "metadata": {},
   "outputs": [],
   "source": []
  },
  {
   "cell_type": "markdown",
   "id": "d4d19b37",
   "metadata": {
    "colab_type": "text",
    "id": "pYWIagXexSLT"
   },
   "source": [
    "- 다음 중 일일 평균 수익률이 더 높은 것은 무엇입니까?\n",
    "   - S&P500 or Google\n",
    "   - S&P500 or Amazon"
   ]
  },
  {
   "cell_type": "code",
   "execution_count": null,
   "id": "0a9803fa",
   "metadata": {},
   "outputs": [],
   "source": [
    "# 각 열(자산)의 평균 일일 수익률을 계산하고 평균 수익률을 내림차순으로 정렬합니다."
   ]
  },
  {
   "cell_type": "markdown",
   "id": "0f5ad858",
   "metadata": {
    "colab_type": "text",
    "id": "CF3D8GlUp6W0"
   },
   "source": [
    "### 단일 주식에 대한 베타 계산\n",
    "- 단일 주식의 일일 수익률"
   ]
  },
  {
   "cell_type": "code",
   "execution_count": null,
   "id": "ec8558ab",
   "metadata": {},
   "outputs": [],
   "source": []
  },
  {
   "cell_type": "code",
   "execution_count": null,
   "id": "00f51467",
   "metadata": {},
   "outputs": [],
   "source": []
  },
  {
   "cell_type": "markdown",
   "id": "789b3219",
   "metadata": {},
   "source": [
    "S&P500 (Market)의 일일 수익률"
   ]
  },
  {
   "cell_type": "code",
   "execution_count": null,
   "id": "697c94aa",
   "metadata": {},
   "outputs": [],
   "source": []
  },
  {
   "cell_type": "markdown",
   "id": "48599138",
   "metadata": {},
   "source": [
    "선택한 주식과 S&P500(시장) 사이의 산점도를 플로팅합니다."
   ]
  },
  {
   "cell_type": "code",
   "execution_count": null,
   "id": "a260a462",
   "metadata": {},
   "outputs": [],
   "source": [
    "# daily_returns 데이터프레임에서 산점도(scatter plot)를 생성합니다.\n",
    "# x='sp500'은 x축에 S&P 500 지수의 일일 수익률을 설정\n",
    "# y=stock은 y축에 특정 주식의 일일 수익률을 설정"
   ]
  },
  {
   "cell_type": "markdown",
   "id": "ee94c7a6",
   "metadata": {},
   "source": [
    "### Linear Regression을 이용한 BETA 계산"
   ]
  },
  {
   "cell_type": "code",
   "execution_count": null,
   "id": "57ac0e69",
   "metadata": {},
   "outputs": [],
   "source": [
    "# daily_returns 데이터프레임에서 S&P 500 지수의 수익률을 가져와 X 변수에 저장\n",
    "# 2차원 배열로 변환하기 위해 reshape(-1, 1)을 사용\n",
    "# daily_returns 데이터프레임에서 Apple(AAPL) 주식의 수익률을 y 변수에 저장"
   ]
  },
  {
   "cell_type": "code",
   "execution_count": null,
   "id": "1f25a6cb",
   "metadata": {},
   "outputs": [],
   "source": []
  },
  {
   "cell_type": "markdown",
   "id": "a0806b8d",
   "metadata": {},
   "source": [
    "- 알파는 시장을 이길 수 있는 전략의 능력을 나타냅니다(S&P500).  즉, 특정 주식이 시장과 무관한 요인으로 인해 주식이 얻는 초과 수익을 의미합니다.\n",
    "\n",
    "- 예를 들어 양수 0.00175 알파는 특정 주식 또는 포트폴리오의 수익률이 벤치마크 S&P500 지수를 0.17% 초과했음을 의미합니다."
   ]
  },
  {
   "cell_type": "code",
   "execution_count": null,
   "id": "774fa607",
   "metadata": {},
   "outputs": [],
   "source": []
  },
  {
   "cell_type": "markdown",
   "id": "f3286e03",
   "metadata": {},
   "source": [
    "### 증권시장선 Line plot\n",
    "\n",
    "<img src=\"https://i.imgur.com/tOn1h2J.png\" width=450 />"
   ]
  },
  {
   "cell_type": "code",
   "execution_count": null,
   "id": "b22cae66",
   "metadata": {},
   "outputs": [],
   "source": [
    "# daily_returns 데이터프레임에서 S&P 500 지수와 특정 주식의 일일 수익률을 산점도로 시각화합니다.\n",
    "# x축에 S&P 500 지수의 일일 수익률을 설정하고,\n",
    "# y축에 특정 주식의 일일 수익률을 설정합니다.\n",
    "# 회귀선(선형 관계)을 추가하여 주식 수익률과 S&P 500 지수 간의 관계를 시각화합니다.\n",
    "# beta * daily_returns['sp500'] + alpha는 회귀 직선의 방정식입니다."
   ]
  },
  {
   "cell_type": "markdown",
   "id": "8f4cf934",
   "metadata": {
    "colab_type": "text",
    "id": "R7ojW2776nuY"
   },
   "source": [
    "## beta를 구한 개별 주식에 CAPM 공식 적용\n",
    "- 개별 주식의 기대 수익률 계산\n",
    "### $ r_i = r_f + \\beta * (r_m - r_f )$   "
   ]
  },
  {
   "cell_type": "code",
   "execution_count": null,
   "id": "5e8d896c",
   "metadata": {},
   "outputs": [],
   "source": []
  },
  {
   "cell_type": "markdown",
   "id": "e43dd805",
   "metadata": {},
   "source": [
    "S&P500의 일일 평균 수익률"
   ]
  },
  {
   "cell_type": "code",
   "execution_count": null,
   "id": "3ff8fad5",
   "metadata": {},
   "outputs": [],
   "source": []
  },
  {
   "cell_type": "markdown",
   "id": "b694a8a2",
   "metadata": {},
   "source": [
    "S&P500의 연간 수익률"
   ]
  },
  {
   "cell_type": "code",
   "execution_count": null,
   "id": "36f1ed82",
   "metadata": {},
   "outputs": [],
   "source": []
  },
  {
   "cell_type": "markdown",
   "id": "cb9e3c85",
   "metadata": {},
   "source": [
    "개별 주식의 연간 수익률"
   ]
  },
  {
   "cell_type": "code",
   "execution_count": null,
   "id": "c652ac64",
   "metadata": {},
   "outputs": [],
   "source": []
  },
  {
   "cell_type": "code",
   "execution_count": null,
   "id": "7abb912a",
   "metadata": {},
   "outputs": [],
   "source": []
  },
  {
   "cell_type": "markdown",
   "id": "af279b78",
   "metadata": {},
   "source": [
    "- AT&T의 기대 수익률 계산"
   ]
  },
  {
   "cell_type": "code",
   "execution_count": null,
   "id": "e737340a",
   "metadata": {},
   "outputs": [],
   "source": []
  },
  {
   "cell_type": "code",
   "execution_count": null,
   "id": "18d7fd91",
   "metadata": {},
   "outputs": [],
   "source": []
  },
  {
   "cell_type": "markdown",
   "id": "fa330012",
   "metadata": {
    "colab_type": "text",
    "id": "l0dj0g3IUcau"
   },
   "source": [
    "## 모든 주식에 대한 베타 계산"
   ]
  },
  {
   "cell_type": "code",
   "execution_count": null,
   "id": "4d17aa37",
   "metadata": {},
   "outputs": [],
   "source": [
    "# 빈 딕셔너리를 생성하여 각 주식의 베타와 알파 값을 저장할 준비를 합니다.\n",
    "# S&P 500 지수의 일일 수익률 데이터를 X 변수에 저장합니다.\n",
    "    # 주식(col)의 일일 수익률 데이터를 y 변수에 저장\n",
    "    # 선형 회귀 모델을 생성\n",
    "    # X(S&P 500 지수)와 y(해당 주식 수익률)를 사용해 선형 회귀 모델을 학습\n",
    "    # 회귀 모델의 계수(coef_, 베타)와 절편(intercept_, 알파)을 저장\n",
    "    # 베타와 알파 값을 각각 betas와 alphas 딕셔너리에 저장\n",
    "    # x축은 S&P 500 지수의 수익률, y축은 해당 주식의 수익률을 표시\n",
    "    # 선형 회귀선(베타와 알파를 사용하여 계산된)을 빨간색으로 그래프에 추가\n",
    "    # y축 눈금을 -0.2에서 0.2까지로 설정하여 그래프를 일관성 있게 시각화"
   ]
  },
  {
   "cell_type": "code",
   "execution_count": null,
   "id": "8fbf53ad",
   "metadata": {},
   "outputs": [],
   "source": []
  },
  {
   "cell_type": "markdown",
   "id": "2ec2b4e0",
   "metadata": {
    "colab_type": "text",
    "id": "-zduPVSdJAzj"
   },
   "source": [
    "## CAPM 공식을 적용하여 포트폴리오 수익률 계산"
   ]
  },
  {
   "cell_type": "markdown",
   "id": "84995f19",
   "metadata": {},
   "source": [
    "모든 주식 목록을 얻습니다."
   ]
  },
  {
   "cell_type": "code",
   "execution_count": null,
   "id": "0e93b5f3",
   "metadata": {},
   "outputs": [],
   "source": []
  },
  {
   "cell_type": "code",
   "execution_count": null,
   "id": "5b9362ed",
   "metadata": {},
   "outputs": [],
   "source": [
    "# 주식별로 예상 수익률(Expected Returns)을 저장할 딕셔너리 초기화\n",
    "# 무위험 수익률 설정\n",
    "# S&P 500 지수의 연간 평균 수익률을 계산합니다.\n",
    "# 각 주식에 대해 예상 수익률(ER, Expected Return)을 계산합니다.\n",
    "    # 예상 수익률(ER) = rf + 베타 * (시장 수익률 - 무위험 수익률)"
   ]
  },
  {
   "cell_type": "code",
   "execution_count": null,
   "id": "78f01141",
   "metadata": {},
   "outputs": [],
   "source": []
  },
  {
   "cell_type": "code",
   "execution_count": null,
   "id": "40ceacda",
   "metadata": {},
   "outputs": [],
   "source": []
  },
  {
   "cell_type": "markdown",
   "id": "9b344cc9",
   "metadata": {},
   "source": [
    "### Portfolio 의 기대 수익 계산\n",
    "\n",
    "- 위 주식들로 구성된 포트폴리오에서 동일한 가중치를 가정합니다."
   ]
  },
  {
   "cell_type": "code",
   "execution_count": null,
   "id": "786c2350",
   "metadata": {},
   "outputs": [],
   "source": [
    "# np.ones(len(stocks))는 주식 개수만큼 1로 이루어진 배열을 생성합니다.\n",
    "# 이 두 값의 곱을 통해 각 주식의 비중을 동일하게 1/주식 개수로 설정합니다."
   ]
  },
  {
   "cell_type": "markdown",
   "id": "27bd48fa",
   "metadata": {},
   "source": [
    "- 위 포트폴리오 기대 수익률 계산"
   ]
  },
  {
   "cell_type": "code",
   "execution_count": null,
   "id": "f2b01df7",
   "metadata": {},
   "outputs": [],
   "source": [
    "# portfolio_weights는 각 주식의 포트폴리오 내 비중을 나타냅니다.\n",
    "# 두 리스트를 요소별로 곱하여 가중합을 구한 뒤, * 100을 통해 백분율로 변환합니다.\n",
    "# 계산된 포트폴리오의 기대 수익률을 출력"
   ]
  },
  {
   "cell_type": "markdown",
   "id": "6156ebb2",
   "metadata": {},
   "source": [
    "- Apple 50%, MGM 50% 구성된 포트폴리오의 기대 수익률"
   ]
  },
  {
   "cell_type": "code",
   "execution_count": null,
   "id": "877b705a",
   "metadata": {},
   "outputs": [],
   "source": []
  },
  {
   "cell_type": "code",
   "execution_count": null,
   "id": "dd1e221b",
   "metadata": {},
   "outputs": [],
   "source": []
  }
 ],
 "metadata": {
  "colab": {
   "authorship_tag": "ABX9TyMaRbA/bqiLJiI9SL7InFbR",
   "collapsed_sections": [],
   "name": "Finance 101 - Capital Asset Pricing Model (CAPM) - Skeleton Prior Filming.ipynb",
   "provenance": []
  },
  "kernelspec": {
   "display_name": "Python 3 (ipykernel)",
   "language": "python",
   "name": "python3"
  },
  "language_info": {
   "codemirror_mode": {
    "name": "ipython",
    "version": 3
   },
   "file_extension": ".py",
   "mimetype": "text/x-python",
   "name": "python",
   "nbconvert_exporter": "python",
   "pygments_lexer": "ipython3",
   "version": "3.9.16"
  }
 },
 "nbformat": 4,
 "nbformat_minor": 5
}
