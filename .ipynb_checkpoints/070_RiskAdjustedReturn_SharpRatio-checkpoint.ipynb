{
 "cells": [
  {
   "cell_type": "markdown",
   "metadata": {},
   "source": [
    "# 변동성과 위험 (Volatility and Risk), Sharpe Ratio\n",
    "### 변동성 \n",
    "변동성(Volatility)은 투자자산의 가격 변동을 나타내는 측정치입니다. 주식, 채권, 상품 등 다양한 자산의 가격은 시간에 따라 변동하며, 이 변동의 크기와 빈도를 측정하는 것이 변동성입니다. 변동성이 높다는 것은 가격 변동의 크기가 크거나 빈도가 높아 불확실성이 높은 상태를 의미하며, 이는 고위험이라고 볼 수 있습니다.\n",
    "\n",
    "변동성을 측정하는 일반적인 방법 중 하나는 표준편차를 사용하는 것입니다. 표준편차는 관찰값들이 평균으로부터 얼마나 떨어져 있는지를 측정하는 통계학적인 개념입니다. 변동성을 계산할 때, 일반적으로 각 관찰치(예: 일일 수익률)과 평균 관찰치간의 차이를 제곱하여 평균을 낸 후, 그 결과값의 제곱근을 구합니다. 이렇게 계산된 값이 표준편차이며, 이를 변동성이라고 부릅니다.\n",
    "\n",
    "### Sharpe Ratio\n",
    "Sharpe Ratio는 위험 대비 수익률을 측정하는 지표로, 투자의 성과를 평가하는 데 사용됩니다. Sharpe Ratio는 예상 수익률을 초과하는 수익률(초과수익률)을 투자의 위험(표준편차 또는 변동성)으로 나눈 것입니다. Sharpe Ratio가 높을수록 동일한 위험 수준에서 더 많은 초과 수익을 얻을 수 있다는 것을 의미합니다. 따라서 Sharpe Ratio는 투자 선택지를 비교할 때 효율적인 도구로 활용될 수 있습니다."
   ]
  },
  {
   "cell_type": "code",
   "execution_count": 1,
   "metadata": {},
   "outputs": [],
   "source": [
    "import pandas as pd\n",
    "import numpy as np\n",
    "import matplotlib.pyplot as plt\n",
    "import korean"
   ]
  },
  {
   "cell_type": "code",
   "execution_count": 2,
   "metadata": {},
   "outputs": [
    {
     "data": {
      "text/html": [
       "<div>\n",
       "<style scoped>\n",
       "    .dataframe tbody tr th:only-of-type {\n",
       "        vertical-align: middle;\n",
       "    }\n",
       "\n",
       "    .dataframe tbody tr th {\n",
       "        vertical-align: top;\n",
       "    }\n",
       "\n",
       "    .dataframe thead th {\n",
       "        text-align: right;\n",
       "    }\n",
       "</style>\n",
       "<table border=\"1\" class=\"dataframe\">\n",
       "  <thead>\n",
       "    <tr style=\"text-align: right;\">\n",
       "      <th></th>\n",
       "      <th>BLUE</th>\n",
       "      <th>ORANGE</th>\n",
       "    </tr>\n",
       "  </thead>\n",
       "  <tbody>\n",
       "    <tr>\n",
       "      <th>0</th>\n",
       "      <td>NaN</td>\n",
       "      <td>NaN</td>\n",
       "    </tr>\n",
       "    <tr>\n",
       "      <th>1</th>\n",
       "      <td>0.023621</td>\n",
       "      <td>0.039662</td>\n",
       "    </tr>\n",
       "    <tr>\n",
       "      <th>2</th>\n",
       "      <td>-0.021807</td>\n",
       "      <td>-0.033638</td>\n",
       "    </tr>\n",
       "    <tr>\n",
       "      <th>3</th>\n",
       "      <td>-0.031763</td>\n",
       "      <td>0.082232</td>\n",
       "    </tr>\n",
       "    <tr>\n",
       "      <th>4</th>\n",
       "      <td>0.034477</td>\n",
       "      <td>0.044544</td>\n",
       "    </tr>\n",
       "  </tbody>\n",
       "</table>\n",
       "</div>"
      ],
      "text/plain": [
       "       BLUE    ORANGE\n",
       "0       NaN       NaN\n",
       "1  0.023621  0.039662\n",
       "2 -0.021807 -0.033638\n",
       "3 -0.031763  0.082232\n",
       "4  0.034477  0.044544"
      ]
     },
     "execution_count": 2,
     "metadata": {},
     "output_type": "execute_result"
    }
   ],
   "source": [
    "# CSV 파일로부터 주가 데이터를 불러옵니다.\n",
    "prices = pd.read_csv(\"data/sample_prices.csv\")\n",
    "\n",
    "# 주가 데이터에서 일일 수익률을 계산합니다.\n",
    "# pct_change() 함수는 이전 행과 비교하여 퍼센트 변동(수익률)을 계산합니다.\n",
    "returns = prices.pct_change()\n",
    "\n",
    "returns.head()"
   ]
  },
  {
   "cell_type": "code",
   "execution_count": 3,
   "metadata": {},
   "outputs": [
    {
     "data": {
      "text/html": [
       "<div>\n",
       "<style scoped>\n",
       "    .dataframe tbody tr th:only-of-type {\n",
       "        vertical-align: middle;\n",
       "    }\n",
       "\n",
       "    .dataframe tbody tr th {\n",
       "        vertical-align: top;\n",
       "    }\n",
       "\n",
       "    .dataframe thead th {\n",
       "        text-align: right;\n",
       "    }\n",
       "</style>\n",
       "<table border=\"1\" class=\"dataframe\">\n",
       "  <thead>\n",
       "    <tr style=\"text-align: right;\">\n",
       "      <th></th>\n",
       "      <th>BLUE</th>\n",
       "      <th>ORANGE</th>\n",
       "    </tr>\n",
       "  </thead>\n",
       "  <tbody>\n",
       "    <tr>\n",
       "      <th>1</th>\n",
       "      <td>0.023621</td>\n",
       "      <td>0.039662</td>\n",
       "    </tr>\n",
       "    <tr>\n",
       "      <th>2</th>\n",
       "      <td>-0.021807</td>\n",
       "      <td>-0.033638</td>\n",
       "    </tr>\n",
       "    <tr>\n",
       "      <th>3</th>\n",
       "      <td>-0.031763</td>\n",
       "      <td>0.082232</td>\n",
       "    </tr>\n",
       "    <tr>\n",
       "      <th>4</th>\n",
       "      <td>0.034477</td>\n",
       "      <td>0.044544</td>\n",
       "    </tr>\n",
       "    <tr>\n",
       "      <th>5</th>\n",
       "      <td>0.037786</td>\n",
       "      <td>-0.026381</td>\n",
       "    </tr>\n",
       "    <tr>\n",
       "      <th>6</th>\n",
       "      <td>-0.011452</td>\n",
       "      <td>-0.049187</td>\n",
       "    </tr>\n",
       "    <tr>\n",
       "      <th>7</th>\n",
       "      <td>0.032676</td>\n",
       "      <td>0.117008</td>\n",
       "    </tr>\n",
       "    <tr>\n",
       "      <th>8</th>\n",
       "      <td>-0.012581</td>\n",
       "      <td>0.067353</td>\n",
       "    </tr>\n",
       "    <tr>\n",
       "      <th>9</th>\n",
       "      <td>0.029581</td>\n",
       "      <td>0.078249</td>\n",
       "    </tr>\n",
       "    <tr>\n",
       "      <th>10</th>\n",
       "      <td>0.006151</td>\n",
       "      <td>-0.168261</td>\n",
       "    </tr>\n",
       "    <tr>\n",
       "      <th>11</th>\n",
       "      <td>0.012162</td>\n",
       "      <td>0.024041</td>\n",
       "    </tr>\n",
       "    <tr>\n",
       "      <th>12</th>\n",
       "      <td>0.021149</td>\n",
       "      <td>-0.055623</td>\n",
       "    </tr>\n",
       "  </tbody>\n",
       "</table>\n",
       "</div>"
      ],
      "text/plain": [
       "        BLUE    ORANGE\n",
       "1   0.023621  0.039662\n",
       "2  -0.021807 -0.033638\n",
       "3  -0.031763  0.082232\n",
       "4   0.034477  0.044544\n",
       "5   0.037786 -0.026381\n",
       "6  -0.011452 -0.049187\n",
       "7   0.032676  0.117008\n",
       "8  -0.012581  0.067353\n",
       "9   0.029581  0.078249\n",
       "10  0.006151 -0.168261\n",
       "11  0.012162  0.024041\n",
       "12  0.021149 -0.055623"
      ]
     },
     "execution_count": 3,
     "metadata": {},
     "output_type": "execute_result"
    }
   ],
   "source": [
    "returns = returns.dropna()\n",
    "returns"
   ]
  },
  {
   "cell_type": "markdown",
   "metadata": {},
   "source": [
    "표준 편차를 계산합니다.  \n",
    "$$(편차) = (각 변량) - (전체 평균)$$  \n",
    "$$(분산) = \\frac{편차의 제곱의 합}{총 변량의 갯수}$$\n",
    "$$(표준편차) = 분산의 제곱근 (\\sqrt{분산})$$"
   ]
  },
  {
   "cell_type": "code",
   "execution_count": 4,
   "metadata": {},
   "outputs": [
    {
     "data": {
      "text/plain": [
       "BLUE      0.022957\n",
       "ORANGE    0.076212\n",
       "dtype: float64"
      ]
     },
     "execution_count": 4,
     "metadata": {},
     "output_type": "execute_result"
    }
   ],
   "source": [
    "#편차\n",
    "deviations = returns - returns.mean()  \n",
    "#편차의 제곱\n",
    "squared_deviations = deviations ** 2\n",
    "\n",
    "#분산 = 편차의 제곱의 평균\n",
    "mean_squared_deviations = squared_deviations.mean()\n",
    "# 표준편차 (변동성)\n",
    "volatility = np.sqrt(mean_squared_deviations)\n",
    "volatility"
   ]
  },
  {
   "cell_type": "markdown",
   "metadata": {},
   "source": [
    "내장된 `.std()` 메소드를 사용할 때도 같은 답이 나와야 하는데 약간의 차이가 납니다.  \n",
    "\n",
    "ddof 인자는 \"Delta Degrees of Freedom\"의 약자로, 표준편차나 분산을 계산할 때 사용하는 분모의 조정값을 의미합니다. 기본값은 1로 설정되어 있으며, 이는 공식에서 N-1을 의미합니다. N은 데이터의 개수입니다. 이렇게 N-1을 사용하는 이유는 표본의 분산이나 표준편차를 계산할 때 편향되지 않은(unbiased) 추정값을 얻기 위함입니다.\n",
    "\n",
    "그러나 ddof=0을 설정하면 분모는 N으로 설정되며, 이는 전체 데이터셋의 표준편차를 계산할 때 사용됩니다. 이는 표본이 아닌 모집단의 표준편차를 계산하는 것으로 볼 수 있습니다.\n",
    "\n",
    "따라서, returns.std(ddof=0)은 'returns' 데이터셋의 모집단 표준편차를 계산합니다."
   ]
  },
  {
   "cell_type": "code",
   "execution_count": 5,
   "metadata": {},
   "outputs": [
    {
     "data": {
      "text/plain": [
       "BLUE      0.023977\n",
       "ORANGE    0.079601\n",
       "dtype: float64"
      ]
     },
     "execution_count": 5,
     "metadata": {},
     "output_type": "execute_result"
    }
   ],
   "source": [
    "returns.std()"
   ]
  },
  {
   "cell_type": "code",
   "execution_count": 6,
   "metadata": {},
   "outputs": [
    {
     "data": {
      "text/plain": [
       "BLUE      0.022957\n",
       "ORANGE    0.076212\n",
       "dtype: float64"
      ]
     },
     "execution_count": 6,
     "metadata": {},
     "output_type": "execute_result"
    }
   ],
   "source": [
    "returns.std(ddof=0)"
   ]
  },
  {
   "cell_type": "code",
   "execution_count": 7,
   "metadata": {},
   "outputs": [
    {
     "data": {
      "text/plain": [
       "(12, 2)"
      ]
     },
     "execution_count": 7,
     "metadata": {},
     "output_type": "execute_result"
    }
   ],
   "source": [
    "returns.shape"
   ]
  },
  {
   "cell_type": "code",
   "execution_count": 8,
   "metadata": {},
   "outputs": [
    {
     "name": "stdout",
     "output_type": "stream",
     "text": [
      "두 자산의 변동성\n",
      " BLUE      0.023977\n",
      "ORANGE    0.079601\n",
      "dtype: float64\n"
     ]
    }
   ],
   "source": [
    "volatility = returns.std()\n",
    "\n",
    "print('두 자산의 변동성\\n', volatility)"
   ]
  },
  {
   "cell_type": "markdown",
   "metadata": {},
   "source": [
    "# 연간 변동성 (Annualizing Volatility) \n",
    "\n",
    "월간 수익률을 기반으로 한 변동성을 연간 변동성으로 변환하려면, 월간 표준편차를 월 수의 제곱근(예를 들어 연간으로 변환할 경우 12의 제곱근)으로 곱해야 합니다. 이렇게 하면 시간 스케일에 따른 변동성을 비교할 수 있습니다.\n",
    "\n",
    "`np.sqrt()`를 사용하는 대신 $0.5$의 거듭제곱으로 올릴 수도 있습니다.  \n",
    "\n",
    "이런 방식으로 환산하는 이유는, 변동성이 랜덤 워크(random walk)와 같은 확률 과정에 의해 주도된다고 가정하기 때문입니다. 랜덤 워크의 경우, 시간 경과에 따른 변동(즉, 위험 또는 변동성)은 시간의 제곱근에 비례하게 됩니다. 이는 통계학과 확률 이론에서 자주 등장하는 개념으로, 주가의 움직임을 묘사하는데 자주 사용됩니다."
   ]
  },
  {
   "cell_type": "code",
   "execution_count": 9,
   "metadata": {},
   "outputs": [
    {
     "data": {
      "text/plain": [
       "BLUE      0.083060\n",
       "ORANGE    0.275747\n",
       "dtype: float64"
      ]
     },
     "execution_count": 9,
     "metadata": {},
     "output_type": "execute_result"
    }
   ],
   "source": [
    "# 월별 수익률의 표준편차(변동성)를 계산한 후 연간 변동성으로 변환합니다.\n",
    "# returns.std()는 월별 수익률의 표준편차(월별 변동성)를 계산합니다.\n",
    "# 여기에 √12를 곱해 연간 변동성(Annualized Volatility)을 계산합니다.\n",
    "# √12를 곱하는 이유는 1년이 12개월이므로, 월별 변동성을 연간 변동성으로 변환하기 위해서입니다.\n",
    "annualized_vol = returns.std() * np.sqrt(12)\n",
    "annualized_vol"
   ]
  },
  {
   "cell_type": "code",
   "execution_count": 10,
   "metadata": {},
   "outputs": [
    {
     "data": {
      "text/plain": [
       "BLUE      0.083060\n",
       "ORANGE    0.275747\n",
       "dtype: float64"
      ]
     },
     "execution_count": 10,
     "metadata": {},
     "output_type": "execute_result"
    }
   ],
   "source": [
    "# np.sqrt(12) == 12**0.5\n",
    "annualized_vol = returns.std() * (12**0.5)\n",
    "annualized_vol"
   ]
  },
  {
   "cell_type": "markdown",
   "metadata": {},
   "source": [
    "## 위험 조정 수익 (Risk Adjusted Returns)\n",
    "\n",
    "위험 조정 수익이란 투자 수익(investment returns)을 단순히 투입 대비 산출로만 계산하는 것이 아니라, 수익이 나타나는 과정에서 포함된 위험들을 고려했을 때의 수익을 의미한다.\n",
    "\n",
    "예를 들어 시장에 기본적이고 공통적으로 존재하는 위험이 있어서 이에 대한 보상으로 투자 활동에 3%의 수익률이 있어야 할 때, 한 투자 활동으로부터 5%의 수익을 얻었다면 시장 위험을 조정한 수익으로 볼때는 그 투자활동은 2%의 수익을 얻은 것이다. \n",
    "\n",
    "### Sharpe Ratio - 대표적인 위험 조정 수익률 지수  \n",
    "\n",
    "- Sharpe Ratio 계산 \n",
    "\n",
    "$$\\frac{초과 수익}{변동성} \\rightarrow 변동성(위험) \\  한\\ 단위 당 \\ 초과 \\ 수익$$\n",
    "\n",
    "$$SR=\\frac{R_p-R_f}{\\sigma_p}, \\ p: portfolio, f: risk free$$"
   ]
  },
  {
   "cell_type": "code",
   "execution_count": 11,
   "metadata": {},
   "outputs": [],
   "source": [
    "rf = 0.025"
   ]
  },
  {
   "cell_type": "code",
   "execution_count": 12,
   "metadata": {},
   "outputs": [
    {
     "name": "stdout",
     "output_type": "stream",
     "text": [
      "BLUE 자산의 연간 수익률 : 0.12331034482758652\n",
      "BLUE 자산의 연간 변동성 : 0.08306021186963347\n",
      "BLUE 자산의 위험 조정 수익률 : 1.1836033476761265\n"
     ]
    }
   ],
   "source": [
    "# BLUE 연간 수익률 \n",
    "BLUE_annualized_return = (1+returns['BLUE']).prod() - 1\n",
    "# BLUE 연간 변동성\n",
    "BLUE_annualized_vol = returns['BLUE'].std() * np.sqrt(12)\n",
    "# BLUE Sharpe Ratio\n",
    "BLUE_SR = (BLUE_annualized_return - rf) / BLUE_annualized_vol\n",
    "\n",
    "print(\"BLUE 자산의 연간 수익률 :\", BLUE_annualized_return)\n",
    "print(\"BLUE 자산의 연간 변동성 :\", BLUE_annualized_vol)\n",
    "print(\"BLUE 자산의 위험 조정 수익률 :\", BLUE_SR)"
   ]
  },
  {
   "cell_type": "code",
   "execution_count": 13,
   "metadata": {},
   "outputs": [
    {
     "name": "stdout",
     "output_type": "stream",
     "text": [
      "ORANGE 자산의 연간 수익률 : 0.08716697936210194\n",
      "ORANGE 자산의 연간 변동성 : 0.27574688095412925\n",
      "ORANGE 자산의 위험 조정 수익률 : 0.22544943807521606\n"
     ]
    }
   ],
   "source": [
    "# ORANGE 연간 수익률 \n",
    "ORANGE_annualized_return = (1+returns['ORANGE']).prod() - 1\n",
    "# ORANGE 연간 변동성\n",
    "ORANGE_annualized_vol = returns['ORANGE'].std() * np.sqrt(12)\n",
    "# ORANGE Sharpe Ratio\n",
    "ORANGE_SR = (ORANGE_annualized_return - rf) / ORANGE_annualized_vol\n",
    "\n",
    "print(\"ORANGE 자산의 연간 수익률 :\", ORANGE_annualized_return)\n",
    "print(\"ORANGE 자산의 연간 변동성 :\", ORANGE_annualized_vol)\n",
    "print(\"ORANGE 자산의 위험 조정 수익률 :\", ORANGE_SR)"
   ]
  },
  {
   "cell_type": "markdown",
   "metadata": {},
   "source": [
    "### 실제 주식의 Sharpe Ratio 계산\n",
    "- 1 년간 주식에 투자하여 얻은 수익률 계산"
   ]
  },
  {
   "cell_type": "code",
   "execution_count": 18,
   "metadata": {},
   "outputs": [
    {
     "data": {
      "text/html": [
       "<div>\n",
       "<style scoped>\n",
       "    .dataframe tbody tr th:only-of-type {\n",
       "        vertical-align: middle;\n",
       "    }\n",
       "\n",
       "    .dataframe tbody tr th {\n",
       "        vertical-align: top;\n",
       "    }\n",
       "\n",
       "    .dataframe thead th {\n",
       "        text-align: right;\n",
       "    }\n",
       "</style>\n",
       "<table border=\"1\" class=\"dataframe\">\n",
       "  <thead>\n",
       "    <tr style=\"text-align: right;\">\n",
       "      <th></th>\n",
       "      <th>삼성전자</th>\n",
       "      <th>카카오</th>\n",
       "      <th>셀트리온</th>\n",
       "      <th>KT&amp;G</th>\n",
       "    </tr>\n",
       "    <tr>\n",
       "      <th>Date</th>\n",
       "      <th></th>\n",
       "      <th></th>\n",
       "      <th></th>\n",
       "      <th></th>\n",
       "    </tr>\n",
       "  </thead>\n",
       "  <tbody>\n",
       "    <tr>\n",
       "      <th>2020-01-03</th>\n",
       "      <td>0.005435</td>\n",
       "      <td>0.000000</td>\n",
       "      <td>-0.013894</td>\n",
       "      <td>0.000000</td>\n",
       "    </tr>\n",
       "    <tr>\n",
       "      <th>2020-01-06</th>\n",
       "      <td>0.000000</td>\n",
       "      <td>0.013101</td>\n",
       "      <td>-0.025346</td>\n",
       "      <td>0.002162</td>\n",
       "    </tr>\n",
       "    <tr>\n",
       "      <th>2020-01-07</th>\n",
       "      <td>0.005405</td>\n",
       "      <td>0.035601</td>\n",
       "      <td>0.028901</td>\n",
       "      <td>0.003236</td>\n",
       "    </tr>\n",
       "    <tr>\n",
       "      <th>2020-01-08</th>\n",
       "      <td>0.017921</td>\n",
       "      <td>-0.003114</td>\n",
       "      <td>-0.028089</td>\n",
       "      <td>-0.012903</td>\n",
       "    </tr>\n",
       "    <tr>\n",
       "      <th>2020-01-09</th>\n",
       "      <td>0.031690</td>\n",
       "      <td>0.028206</td>\n",
       "      <td>0.023117</td>\n",
       "      <td>0.009804</td>\n",
       "    </tr>\n",
       "    <tr>\n",
       "      <th>...</th>\n",
       "      <td>...</td>\n",
       "      <td>...</td>\n",
       "      <td>...</td>\n",
       "      <td>...</td>\n",
       "    </tr>\n",
       "    <tr>\n",
       "      <th>2024-08-26</th>\n",
       "      <td>-0.020592</td>\n",
       "      <td>0.033378</td>\n",
       "      <td>0.012346</td>\n",
       "      <td>0.019571</td>\n",
       "    </tr>\n",
       "    <tr>\n",
       "      <th>2024-08-27</th>\n",
       "      <td>-0.003942</td>\n",
       "      <td>-0.018088</td>\n",
       "      <td>-0.021951</td>\n",
       "      <td>0.014625</td>\n",
       "    </tr>\n",
       "    <tr>\n",
       "      <th>2024-08-28</th>\n",
       "      <td>0.007916</td>\n",
       "      <td>-0.022368</td>\n",
       "      <td>0.004988</td>\n",
       "      <td>-0.010811</td>\n",
       "    </tr>\n",
       "    <tr>\n",
       "      <th>2024-08-29</th>\n",
       "      <td>-0.031414</td>\n",
       "      <td>-0.004038</td>\n",
       "      <td>-0.012407</td>\n",
       "      <td>-0.015483</td>\n",
       "    </tr>\n",
       "    <tr>\n",
       "      <th>2024-08-30</th>\n",
       "      <td>0.004054</td>\n",
       "      <td>0.005405</td>\n",
       "      <td>0.020101</td>\n",
       "      <td>0.000925</td>\n",
       "    </tr>\n",
       "  </tbody>\n",
       "</table>\n",
       "<p>1151 rows × 4 columns</p>\n",
       "</div>"
      ],
      "text/plain": [
       "                삼성전자       카카오      셀트리온      KT&G\n",
       "Date                                              \n",
       "2020-01-03  0.005435  0.000000 -0.013894  0.000000\n",
       "2020-01-06  0.000000  0.013101 -0.025346  0.002162\n",
       "2020-01-07  0.005405  0.035601  0.028901  0.003236\n",
       "2020-01-08  0.017921 -0.003114 -0.028089 -0.012903\n",
       "2020-01-09  0.031690  0.028206  0.023117  0.009804\n",
       "...              ...       ...       ...       ...\n",
       "2024-08-26 -0.020592  0.033378  0.012346  0.019571\n",
       "2024-08-27 -0.003942 -0.018088 -0.021951  0.014625\n",
       "2024-08-28  0.007916 -0.022368  0.004988 -0.010811\n",
       "2024-08-29 -0.031414 -0.004038 -0.012407 -0.015483\n",
       "2024-08-30  0.004054  0.005405  0.020101  0.000925\n",
       "\n",
       "[1151 rows x 4 columns]"
      ]
     },
     "execution_count": 18,
     "metadata": {},
     "output_type": "execute_result"
    }
   ],
   "source": [
    "import datetime\n",
    "import FinanceDataReader as fdr\n",
    "import pandas as pd\n",
    "\n",
    "# 분석할 주식의 이름과 티커(Symbol) 리스트\n",
    "tickers = [['삼성전자', '005930'], ['카카오', '035720'], ['셀트리온', '068270'], ['KT&G', '033780']]\n",
    "\n",
    "# 주가 데이터를 저장할 데이터프레임 초기화\n",
    "dataset = pd.DataFrame()\n",
    "# 일일 수익률 데이터를 저장할 데이터프레임 초기화\n",
    "daily_returns = pd.DataFrame()\n",
    "\n",
    "# 시작 날짜와 종료 날짜 설정\n",
    "start = datetime.date(2020, 1, 1)  # 시작일\n",
    "end = datetime.date(2024, 8, 31)   # 종료일\n",
    "\n",
    "# 주어진 티커 목록을 반복하며 데이터를 수집하고 처리\n",
    "for name, ticker in tickers:\n",
    "    # 각 주식의 종가 데이터를 FinanceDataReader를 통해 가져옵니다.\n",
    "    df = fdr.DataReader(ticker, start=start, end=end)\n",
    "    \n",
    "    # 주가 데이터에서 'Close' 열을 주식 이름으로 변경\n",
    "    df.rename(columns={'Close': name}, inplace=True)\n",
    "    \n",
    "    # 주가 데이터를 기존 데이터프레임(dataset)에 추가합니다.\n",
    "    if dataset.empty:\n",
    "        dataset = df[[name]]\n",
    "    else:\n",
    "        dataset = pd.concat([dataset, df[[name]]], axis=1)\n",
    "    \n",
    "    # 주가 데이터에서 일일 수익률을 계산합니다.\n",
    "    df[name] = df[name].pct_change()\n",
    "    \n",
    "    # 수익률 데이터에서 첫 번째 NaN 값만 제거합니다.\n",
    "    df.dropna(subset=[name], inplace=True)\n",
    "    \n",
    "    # 계산된 수익률 데이터를 daily_returns 데이터프레임에 추가합니다.\n",
    "    if daily_returns.empty:\n",
    "        daily_returns = df[[name]]\n",
    "    else:\n",
    "        daily_returns = pd.concat([daily_returns, df[[name]]], axis=1)\n",
    "\n",
    "# 최종적으로 계산된 일일 수익률 데이터를 출력합니다.\n",
    "daily_returns"
   ]
  },
  {
   "cell_type": "markdown",
   "metadata": {},
   "source": [
    "일일 수익률 시각화"
   ]
  },
  {
   "cell_type": "code",
   "execution_count": 19,
   "metadata": {},
   "outputs": [
    {
     "data": {
      "text/plain": [
       "<AxesSubplot:xlabel='Date'>"
      ]
     },
     "execution_count": 19,
     "metadata": {},
     "output_type": "execute_result"
    },
    {
     "data": {
      "image/png": "[encoded data removed]",
      "text/plain": [
       "<Figure size 720x360 with 1 Axes>"
      ]
     },
     "metadata": {
      "needs_background": "light"
     },
     "output_type": "display_data"
    }
   ],
   "source": [
    "daily_returns.plot()"
   ]
  },
  {
   "cell_type": "markdown",
   "metadata": {},
   "source": [
    "일일 변동성(volatility)"
   ]
  },
  {
   "cell_type": "code",
   "execution_count": 20,
   "metadata": {},
   "outputs": [
    {
     "data": {
      "text/plain": [
       "삼성전자    0.016424\n",
       "카카오     0.024270\n",
       "셀트리온    0.027370\n",
       "KT&G    0.012233\n",
       "dtype: float64"
      ]
     },
     "execution_count": 20,
     "metadata": {},
     "output_type": "execute_result"
    }
   ],
   "source": [
    "daily_returns.std()"
   ]
  },
  {
   "cell_type": "markdown",
   "metadata": {},
   "source": [
    "연간 수익률"
   ]
  },
  {
   "cell_type": "code",
   "execution_count": 21,
   "metadata": {},
   "outputs": [
    {
     "data": {
      "text/plain": [
       "삼성전자    0.346014\n",
       "카카오     0.215329\n",
       "셀트리온    0.214711\n",
       "KT&G    0.169730\n",
       "dtype: float64"
      ]
     },
     "execution_count": 21,
     "metadata": {},
     "output_type": "execute_result"
    }
   ],
   "source": [
    "annualized_return = (1+daily_returns).prod() - 1\n",
    "annualized_return"
   ]
  },
  {
   "cell_type": "markdown",
   "metadata": {},
   "source": [
    "연간 변동성"
   ]
  },
  {
   "cell_type": "code",
   "execution_count": 22,
   "metadata": {},
   "outputs": [
    {
     "data": {
      "text/plain": [
       "삼성전자    0.260728\n",
       "카카오     0.385271\n",
       "셀트리온    0.434487\n",
       "KT&G    0.194189\n",
       "dtype: float64"
      ]
     },
     "execution_count": 22,
     "metadata": {},
     "output_type": "execute_result"
    }
   ],
   "source": [
    "annualized_vol = daily_returns.std() * np.sqrt(252)\n",
    "annualized_vol"
   ]
  },
  {
   "cell_type": "markdown",
   "metadata": {},
   "source": [
    "- Sharpe Ratio 계산 \n",
    "\n",
    "초과 수익 / 변동성 --> 변동성(위험) 한단위 당 초과 수익\n",
    "\n",
    "$$SR=\\frac{R_p-R_f}{\\sigma_p}$$\n",
    "\n",
    "p: portfolio, f: risk free"
   ]
  },
  {
   "cell_type": "code",
   "execution_count": 23,
   "metadata": {},
   "outputs": [
    {
     "data": {
      "text/plain": [
       "삼성전자    1.288754\n",
       "카카오     0.532946\n",
       "셀트리온    0.471154\n",
       "KT&G    0.822546\n",
       "dtype: float64"
      ]
     },
     "execution_count": 23,
     "metadata": {},
     "output_type": "execute_result"
    }
   ],
   "source": [
    "#무위험 수익률\n",
    "riskfree_rate = 0.01 #연간 1%\n",
    "\n",
    "#초과 수익률\n",
    "excess_return = annualized_return - riskfree_rate\n",
    "\n",
    "#샤프지수\n",
    "sharpe_ratio = excess_return / annualized_vol\n",
    "sharpe_ratio"
   ]
  },
  {
   "cell_type": "markdown",
   "metadata": {},
   "source": [
    "높은 샤프 지수는 동일한 위험 수준에서 더 높은 예상 수익을 제공하는 투자를 나타냅니다.\n",
    "\n",
    "위의 샤프 지수에 따르면, \"카카오\"가 가장 높은 샤프 지수(1.771584)를 가지고 있습니다. 따라서 이 투자가 주어진 위험에 대해 가장 높은 예상 수익률을 제공한다고 볼 수 있습니다."
   ]
  },
  {
   "cell_type": "markdown",
   "metadata": {},
   "source": [
    "실제 주가 시각화"
   ]
  },
  {
   "cell_type": "code",
   "execution_count": 24,
   "metadata": {},
   "outputs": [
    {
     "data": {
      "image/png": "[encoded data removed]",
      "text/plain": [
       "<Figure size 720x360 with 1 Axes>"
      ]
     },
     "metadata": {
      "needs_background": "light"
     },
     "output_type": "display_data"
    }
   ],
   "source": [
    "fig, ax = plt.subplots(1, 1)\n",
    "dataset.plot(ax=ax)\n",
    "ax.set_yscale('log')"
   ]
  },
  {
   "cell_type": "code",
   "execution_count": 25,
   "metadata": {},
   "outputs": [
    {
     "data": {
      "text/html": [
       "<div>\n",
       "<style scoped>\n",
       "    .dataframe tbody tr th:only-of-type {\n",
       "        vertical-align: middle;\n",
       "    }\n",
       "\n",
       "    .dataframe tbody tr th {\n",
       "        vertical-align: top;\n",
       "    }\n",
       "\n",
       "    .dataframe thead th {\n",
       "        text-align: right;\n",
       "    }\n",
       "</style>\n",
       "<table border=\"1\" class=\"dataframe\">\n",
       "  <thead>\n",
       "    <tr style=\"text-align: right;\">\n",
       "      <th></th>\n",
       "      <th>삼성전자</th>\n",
       "      <th>카카오</th>\n",
       "      <th>셀트리온</th>\n",
       "      <th>KT&amp;G</th>\n",
       "    </tr>\n",
       "    <tr>\n",
       "      <th>Date</th>\n",
       "      <th></th>\n",
       "      <th></th>\n",
       "      <th></th>\n",
       "      <th></th>\n",
       "    </tr>\n",
       "  </thead>\n",
       "  <tbody>\n",
       "    <tr>\n",
       "      <th>2020-01-02</th>\n",
       "      <td>55200</td>\n",
       "      <td>30609</td>\n",
       "      <td>167118</td>\n",
       "      <td>92500</td>\n",
       "    </tr>\n",
       "    <tr>\n",
       "      <th>2020-01-03</th>\n",
       "      <td>55500</td>\n",
       "      <td>30609</td>\n",
       "      <td>164796</td>\n",
       "      <td>92500</td>\n",
       "    </tr>\n",
       "    <tr>\n",
       "      <th>2020-01-06</th>\n",
       "      <td>55500</td>\n",
       "      <td>31010</td>\n",
       "      <td>160619</td>\n",
       "      <td>92700</td>\n",
       "    </tr>\n",
       "    <tr>\n",
       "      <th>2020-01-07</th>\n",
       "      <td>55800</td>\n",
       "      <td>32114</td>\n",
       "      <td>165261</td>\n",
       "      <td>93000</td>\n",
       "    </tr>\n",
       "    <tr>\n",
       "      <th>2020-01-08</th>\n",
       "      <td>56800</td>\n",
       "      <td>32014</td>\n",
       "      <td>160619</td>\n",
       "      <td>91800</td>\n",
       "    </tr>\n",
       "    <tr>\n",
       "      <th>...</th>\n",
       "      <td>...</td>\n",
       "      <td>...</td>\n",
       "      <td>...</td>\n",
       "      <td>...</td>\n",
       "    </tr>\n",
       "    <tr>\n",
       "      <th>2024-08-26</th>\n",
       "      <td>76100</td>\n",
       "      <td>38700</td>\n",
       "      <td>205000</td>\n",
       "      <td>109400</td>\n",
       "    </tr>\n",
       "    <tr>\n",
       "      <th>2024-08-27</th>\n",
       "      <td>75800</td>\n",
       "      <td>38000</td>\n",
       "      <td>200500</td>\n",
       "      <td>111000</td>\n",
       "    </tr>\n",
       "    <tr>\n",
       "      <th>2024-08-28</th>\n",
       "      <td>76400</td>\n",
       "      <td>37150</td>\n",
       "      <td>201500</td>\n",
       "      <td>109800</td>\n",
       "    </tr>\n",
       "    <tr>\n",
       "      <th>2024-08-29</th>\n",
       "      <td>74000</td>\n",
       "      <td>37000</td>\n",
       "      <td>199000</td>\n",
       "      <td>108100</td>\n",
       "    </tr>\n",
       "    <tr>\n",
       "      <th>2024-08-30</th>\n",
       "      <td>74300</td>\n",
       "      <td>37200</td>\n",
       "      <td>203000</td>\n",
       "      <td>108200</td>\n",
       "    </tr>\n",
       "  </tbody>\n",
       "</table>\n",
       "<p>1152 rows × 4 columns</p>\n",
       "</div>"
      ],
      "text/plain": [
       "             삼성전자    카카오    셀트리온    KT&G\n",
       "Date                                    \n",
       "2020-01-02  55200  30609  167118   92500\n",
       "2020-01-03  55500  30609  164796   92500\n",
       "2020-01-06  55500  31010  160619   92700\n",
       "2020-01-07  55800  32114  165261   93000\n",
       "2020-01-08  56800  32014  160619   91800\n",
       "...           ...    ...     ...     ...\n",
       "2024-08-26  76100  38700  205000  109400\n",
       "2024-08-27  75800  38000  200500  111000\n",
       "2024-08-28  76400  37150  201500  109800\n",
       "2024-08-29  74000  37000  199000  108100\n",
       "2024-08-30  74300  37200  203000  108200\n",
       "\n",
       "[1152 rows x 4 columns]"
      ]
     },
     "execution_count": 25,
     "metadata": {},
     "output_type": "execute_result"
    }
   ],
   "source": [
    "dataset"
   ]
  },
  {
   "cell_type": "code",
   "execution_count": null,
   "metadata": {},
   "outputs": [],
   "source": []
  }
 ],
 "metadata": {
  "kernelspec": {
   "display_name": "Python 3 (ipykernel)",
   "language": "python",
   "name": "python3"
  },
  "language_info": {
   "codemirror_mode": {
    "name": "ipython",
    "version": 3
   },
   "file_extension": ".py",
   "mimetype": "text/x-python",
   "name": "python",
   "nbconvert_exporter": "python",
   "pygments_lexer": "ipython3",
   "version": "3.9.7"
  }
 },
 "nbformat": 4,
 "nbformat_minor": 4
}
