{
 "cells": [
  {
   "cell_type": "markdown",
   "id": "24625725",
   "metadata": {},
   "source": [
    "# Portfolio Optimization (포트폴리오 최적화)\n",
    "\n",
    "- 위험회피적 투자자가 시장 위험의 주어진 수준에 따라 기대수익을 최적화하거나 최대화하여 보상 수준을 선택  \n",
    "\n",
    "\n",
    "- Monte Carlo Simulation 에 의한 최적 포트폴리오 탐색"
   ]
  },
  {
   "cell_type": "code",
   "execution_count": null,
   "id": "7c43ef93",
   "metadata": {},
   "outputs": [],
   "source": []
  },
  {
   "cell_type": "code",
   "execution_count": null,
   "id": "1409c79f",
   "metadata": {},
   "outputs": [],
   "source": []
  },
  {
   "cell_type": "markdown",
   "id": "f433605b",
   "metadata": {},
   "source": [
    "- portfolio 생성"
   ]
  },
  {
   "cell_type": "code",
   "execution_count": null,
   "id": "0660c7a1",
   "metadata": {},
   "outputs": [],
   "source": [
    "# 종목 코드와 종목명을 리스트로 저장합니다.\n",
    "# stock_list에는 ('종목 코드', '종목명')의 형태로 데이터가 저장되어 있습니다.\n",
    "# 주가 데이터를 저장할 빈 데이터프레임을 생성합니다.\n",
    "# stock_list에 있는 종목 코드와 종목명을 이용해 데이터를 반복 처리합니다.\n",
    "    # 종목의 종가 데이터를 FinanceDataReader를 통해 가져옵니다.\n",
    "    # 만약 데이터프레임(df)이 비어있다면, 해당 종목의 코드를 출력합니다.\n",
    "    # 종가 데이터를 portfolio 데이터프레임에 열(column)로 추가합니다.\n",
    "    # concat 함수는 새로운 열을 수평 방향(axis=1)으로 추가합니다.\n",
    "# code_names에는 stock_list에서 종목명(name)만 따로 추출해 저장합니다.\n",
    "# portfolio 데이터프레임의 열 이름을 종목명 리스트로 변경합니다."
   ]
  },
  {
   "cell_type": "markdown",
   "id": "1e402b45",
   "metadata": {},
   "source": [
    "- 포트폴리오 각 자산의 일일 log 수익률 생성 (daily log return)"
   ]
  },
  {
   "cell_type": "code",
   "execution_count": null,
   "id": "790b675d",
   "metadata": {},
   "outputs": [],
   "source": []
  },
  {
   "cell_type": "markdown",
   "id": "24a132e0",
   "metadata": {},
   "source": [
    "asset 간의 상관 계수"
   ]
  },
  {
   "cell_type": "code",
   "execution_count": null,
   "id": "8e64dff8",
   "metadata": {},
   "outputs": [],
   "source": []
  },
  {
   "cell_type": "markdown",
   "id": "0ff1add3",
   "metadata": {},
   "source": [
    "## Method 1 - Monte Carlo Simulation\n",
    "\n",
    "- 가능한 allocation 의 조합을 loop 로 반복하여 최적의 조합 (Highest Sharpe ratio) 을 찾는다.\n",
    "\n",
    "\n",
    "$$Portfolio \\ SR = \\frac{(포트폴리오 \\ 기대수익률 - 무위험수익률)}{포트폴리오\\  기대수익률과 \\ 무위험수익률\\  공분산의 \\ 표준편차}$$ \n",
    "\n",
    "$$SR=\\frac{R_p - R_f}{\\sigma_p}$$ \n",
    "\n"
   ]
  },
  {
   "cell_type": "markdown",
   "id": "4707029a",
   "metadata": {},
   "source": [
    "위의 자산을 1/4 씩 동일 비중으로 포트폴리오 구성한 경우 portfolio 의 샤프 비율 계산"
   ]
  },
  {
   "cell_type": "code",
   "execution_count": null,
   "id": "dce1ef4b",
   "metadata": {},
   "outputs": [],
   "source": []
  },
  {
   "cell_type": "markdown",
   "id": "b869667d",
   "metadata": {},
   "source": [
    "**포트폴리오의 연간 covariance**\n",
    "\n",
    "공분산(covariance)은 두 주식의 수익률 변동이 어떻게 관련되어 있는지 측정하는 지표입니다. 이 경우, 공분산은 제곱 단위으로 측정되므로 연간화할 때 제곱근을 사용하지 않고 거래일 수(일반적으로 252일)를 곱합니다.  \n",
    "\n",
    "np.dot( ..., weights)는 두 배열의 내적을 계산합니다. 연간 공분산 행렬과 각 주식의 비중(weights)을 곱하여 포트폴리오 전체의 공분산을 계산합니다."
   ]
  },
  {
   "cell_type": "code",
   "execution_count": null,
   "id": "7287bd59",
   "metadata": {},
   "outputs": [],
   "source": [
    "# 로그 수익률(log_ret) 데이터에서 연간 공분산 행렬을 계산한 후, 포트폴리오 가중치(weights)와 곱하여 전체 포트폴리오의 공분산을 계산합니다.\n",
    "# log_ret.cov()는 로그 수익률의 공분산 행렬을 계산합니다.\n",
    "# * 252는 주식시장이 1년에 252일 거래되기 때문에 연간 공분산을 계산하기 위한 보정입니다.\n",
    "# np.dot()는 두 배열의 내적을 계산하는 함수로, 연간 공분산 행렬과 포트폴리오 가중치(weights)의 내적을 구합니다."
   ]
  },
  {
   "cell_type": "markdown",
   "id": "46e9bf7b",
   "metadata": {},
   "source": [
    "**포트폴리오의 연간 수익률 계산**\n",
    "\n",
    "각 주식의 평균 로그 수익률에 그 주식이 포트폴리오에서 차지하는 비중을 곱한 후, 이를 모두 더하여(np.sum) 주식 포트폴리오의 일별 예상 수익률을 얻습니다. 그 후, 이 일별 예상 수익률을 연간화하기 위해 252를 곱합니다. "
   ]
  },
  {
   "cell_type": "code",
   "execution_count": null,
   "id": "94771073",
   "metadata": {},
   "outputs": [],
   "source": [
    "# 로그 수익률(log_ret)의 평균 수익률과 가중치(weights)를 곱하여 포트폴리오의 기대 수익률을 계산합니다.\n",
    "# log_ret.mean()은 각 자산의 평균 로그 수익률을 계산합니다.\n",
    "# * weights는 각 자산에 할당된 가중치를 반영하여 가중합을 구합니다.\n",
    "# * 252는 주식시장이 1년에 252일 거래되기 때문에, 일간 수익률을 연간 수익률로 변환하기 위한 보정입니다."
   ]
  },
  {
   "cell_type": "markdown",
   "id": "69bffb4a",
   "metadata": {},
   "source": [
    "**포트폴리오의 연간 변동성 계산**\n",
    "\n",
    "'np.dot(weights.T, cov)'는 가중치 벡터와 공분산 행렬의 내적을 계산하는 것으로, 이 값은 포트폴리오의 분산을 나타냅니다.\n",
    "\n",
    "이 분산 값에 'np.sqrt' 함수를 적용하여 포트폴리오의 표준편차(또는 변동성)을 계산합니다. 이 값은 포트폴리오의 위험을 나타내며, 값이 클수록 포트폴리오의 위험이 크다는 것을 의미합니다."
   ]
  },
  {
   "cell_type": "code",
   "execution_count": null,
   "id": "247dcf61",
   "metadata": {},
   "outputs": [],
   "source": [
    "# 포트폴리오의 연간 변동성(위험)을 계산합니다.\n",
    "# weights.T는 포트폴리오 가중치 벡터의 전치 행렬(transpose)입니다.\n",
    "# np.dot(weights.T, cov)은 포트폴리오 가중치와 공분산 행렬(cov)의 내적을 계산하여 포트폴리오의 분산을 구합니다.\n",
    "# np.sqrt()는 이 값을 제곱근으로 변환하여 포트폴리오의 변동성(volatility, vol)을 계산합니다."
   ]
  },
  {
   "cell_type": "markdown",
   "id": "e87bb7cf",
   "metadata": {},
   "source": [
    "**포트폴리오의 샤프지수**"
   ]
  },
  {
   "cell_type": "code",
   "execution_count": null,
   "id": "811c0ab5",
   "metadata": {},
   "outputs": [],
   "source": [
    "# 포트폴리오의 수익률 대비 변동성 비율을 계산\n",
    "# ret은 포트폴리오의 연간 기대 수익률을 의미하고, vol은 포트폴리오의 연간 변동성(위험)을 의미\n",
    "# ret / vol은 변동성(위험) 한 단위당 기대 수익률을 나타내며, 이는 포트폴리오의 효율성을 평가하는 지표로 사용됩니다.\n",
    "# 수익률 대비 변동성 비율을 출력합니다."
   ]
  },
  {
   "cell_type": "markdown",
   "id": "1a78a192",
   "metadata": {},
   "source": [
    "### 모든 내용을 집합하여 샤프비율 계산 함수 작성\n",
    "    반환값 - 연간 기대 수익률, 연간 covariance, sharp ratio 반환 "
   ]
  },
  {
   "cell_type": "code",
   "execution_count": null,
   "id": "3aa5978c",
   "metadata": {},
   "outputs": [],
   "source": [
    "def get_ret_vol_sr(weights, log_ret):\n",
    "    # 가중치를 numpy array로 변환\n",
    "    # 각 주식의 로그 수익률에 대한 공분산을 계산하고, 가중치를 곱한 후 연간화\n",
    "    # 각 주식의 평균 로그 수익률에 가중치를 곱한 후 합산하여 포트폴리오의 일별 예상 수익률을 구하고, 이를 연간화\n",
    "    # 포트폴리오의 분산을 계산한 후, 이의 제곱근을 구하여 포트폴리오의 변동성(표준편차)를 계산\n",
    "    # 포트폴리오의 수익률을 변동성으로 나누어 샤프 지수를 계산\n",
    "    # 수익률, 변동성, 샤프 지수를 원소로 하는 numpy array를 반환"
   ]
  },
  {
   "cell_type": "code",
   "execution_count": null,
   "id": "dae065f7",
   "metadata": {},
   "outputs": [],
   "source": []
  },
  {
   "cell_type": "markdown",
   "id": "c8469980",
   "metadata": {},
   "source": [
    "**MC Simulation - 각 자산의 비중을 무작위로 선택하여 특정 자산 비중에서의 연간 수익률, 변동성, 샤프비율 계산**\n",
    "\n",
    "주어진 주식 포트폴리오에 대해 각각 랜덤한 가중치를 할당하여 해당 가중치에서의 예상 수익률, 변동성, 샤프 지수를 계산하고, 이를 각각의 배열에 저장하는 과정을 반복적으로 수행합니다. 이렇게 하면 랜덤한 가중치 조합에 대한 포트폴리오 성능을 시뮬레이션하여 최적의 포트폴리오를 탐색하는 데 도움이 됩니다."
   ]
  },
  {
   "cell_type": "code",
   "execution_count": null,
   "id": "4b4a4b41",
   "metadata": {},
   "outputs": [],
   "source": [
    "# 랜덤 시드 설정\n",
    "# 주식의 개수를 구합니다.\n",
    "# 반복 횟수 설정\n",
    "# 결과를 저장할 배열 초기화\n",
    "# 반복 수만큼 시뮬레이션\n",
    "    # 각 주식에 대한 가중치를 랜덤하게 생성\n",
    "    # 가중치의 합이 1이 되도록 스케일링\n",
    "    # 이번 반복에서의 가중치 저장\n",
    "    # 주어진 가중치에서의 수익률, 변동성, 샤프 지수 계산\n",
    "    # 결과 저장"
   ]
  },
  {
   "cell_type": "code",
   "execution_count": null,
   "id": "d12e595e",
   "metadata": {},
   "outputs": [],
   "source": []
  },
  {
   "cell_type": "code",
   "execution_count": null,
   "id": "cbf9a5b3",
   "metadata": {},
   "outputs": [],
   "source": []
  },
  {
   "cell_type": "markdown",
   "id": "5d373e94",
   "metadata": {},
   "source": [
    "- 최적 샤프 비율 (highest sharpe ratio)을 구하고, 그 때의 최적 자산 배분 비율을 구함"
   ]
  },
  {
   "cell_type": "code",
   "execution_count": null,
   "id": "2245f31d",
   "metadata": {},
   "outputs": [],
   "source": [
    "# MC method 에 의해 simulation 한 최적 sharpe ratio"
   ]
  },
  {
   "cell_type": "markdown",
   "id": "ac07b59c",
   "metadata": {},
   "source": [
    "최적 Sharpe ratio 일 때의 daily return 과 volatility, 최적 portfolio 비율"
   ]
  },
  {
   "cell_type": "code",
   "execution_count": null,
   "id": "2c5def15",
   "metadata": {},
   "outputs": [],
   "source": []
  },
  {
   "cell_type": "markdown",
   "id": "dbe6aea3",
   "metadata": {},
   "source": [
    "- 포트폴리오 조합 및 최적 포트폴리오 시각화"
   ]
  },
  {
   "cell_type": "code",
   "execution_count": null,
   "id": "a4a60362",
   "metadata": {},
   "outputs": [],
   "source": [
    "# 포트폴리오의 변동성(vol_arr)과 수익률(ret_arr)을 산점도로 시각화합니다.\n",
    "# c=sharpe_arr는 샤프 비율 배열을 색으로 사용하여 각 포트폴리오의 효율성을 시각적으로 나타냅니다.\n",
    "# marker='.'는 점으로 표시, cmap='plasma'는 색상 팔레트를 설정합니다.\n",
    "# 색상 바를 추가하여 샤프 비율(Sharpe Ratio)을 시각적으로 표시합니다.\n",
    "# 그리드를 추가하여 그래프를 보기 쉽게 만듭니다.\n",
    "# x축 레이블을 'Volatility'(변동성)으로 설정합니다.\n",
    "# y축 레이블을 'Return'(수익률)으로 설정합니다.\n",
    "# 최적의 포트폴리오를 표시합니다.\n",
    "# 최적 포트폴리오는 샤프 비율이 가장 높은 포트폴리오로, 그 좌표(vol_arr[max_idx], ret_arr[max_idx])를 빨간색 원('ro')으로 표시합니다.\n",
    "# markeredgecolor='k'는 마커의 테두리를 검은색으로 설정, markersize=10은 마커의 크기를 10으로 설정합니다."
   ]
  },
  {
   "cell_type": "code",
   "execution_count": null,
   "id": "7b29928f",
   "metadata": {},
   "outputs": [],
   "source": []
  }
 ],
 "metadata": {
  "kernelspec": {
   "display_name": "Python 3 (ipykernel)",
   "language": "python",
   "name": "python3"
  },
  "language_info": {
   "codemirror_mode": {
    "name": "ipython",
    "version": 3
   },
   "file_extension": ".py",
   "mimetype": "text/x-python",
   "name": "python",
   "nbconvert_exporter": "python",
   "pygments_lexer": "ipython3",
   "version": "3.9.16"
  }
 },
 "nbformat": 4,
 "nbformat_minor": 5
}
